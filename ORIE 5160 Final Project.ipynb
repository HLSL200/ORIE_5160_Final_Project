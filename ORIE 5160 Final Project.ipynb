{
 "cells": [
  {
   "cell_type": "markdown",
   "id": "0f515ccf",
   "metadata": {},
   "source": [
    "# Load the Dataset"
   ]
  },
  {
   "cell_type": "code",
   "execution_count": 1,
   "id": "2980eb1d",
   "metadata": {},
   "outputs": [],
   "source": [
    "import pandas as pd\n",
    "import numpy as np"
   ]
  },
  {
   "cell_type": "code",
   "execution_count": 4,
   "id": "0986df9a",
   "metadata": {},
   "outputs": [
    {
     "data": {
      "text/html": [
       "<div>\n",
       "<style scoped>\n",
       "    .dataframe tbody tr th:only-of-type {\n",
       "        vertical-align: middle;\n",
       "    }\n",
       "\n",
       "    .dataframe tbody tr th {\n",
       "        vertical-align: top;\n",
       "    }\n",
       "\n",
       "    .dataframe thead th {\n",
       "        text-align: right;\n",
       "    }\n",
       "</style>\n",
       "<table border=\"1\" class=\"dataframe\">\n",
       "  <thead>\n",
       "    <tr style=\"text-align: right;\">\n",
       "      <th></th>\n",
       "      <th>label</th>\n",
       "      <th>text</th>\n",
       "    </tr>\n",
       "  </thead>\n",
       "  <tbody>\n",
       "    <tr>\n",
       "      <th>0</th>\n",
       "      <td>ham</td>\n",
       "      <td>Go until jurong point, crazy.. Available only ...</td>\n",
       "    </tr>\n",
       "    <tr>\n",
       "      <th>1</th>\n",
       "      <td>ham</td>\n",
       "      <td>Ok lar... Joking wif u oni...</td>\n",
       "    </tr>\n",
       "    <tr>\n",
       "      <th>2</th>\n",
       "      <td>spam</td>\n",
       "      <td>Free entry in 2 a wkly comp to win FA Cup fina...</td>\n",
       "    </tr>\n",
       "    <tr>\n",
       "      <th>3</th>\n",
       "      <td>ham</td>\n",
       "      <td>U dun say so early hor... U c already then say...</td>\n",
       "    </tr>\n",
       "    <tr>\n",
       "      <th>4</th>\n",
       "      <td>ham</td>\n",
       "      <td>Nah I don't think he goes to usf, he lives aro...</td>\n",
       "    </tr>\n",
       "    <tr>\n",
       "      <th>...</th>\n",
       "      <td>...</td>\n",
       "      <td>...</td>\n",
       "    </tr>\n",
       "    <tr>\n",
       "      <th>5567</th>\n",
       "      <td>spam</td>\n",
       "      <td>This is the 2nd time we have tried 2 contact u...</td>\n",
       "    </tr>\n",
       "    <tr>\n",
       "      <th>5568</th>\n",
       "      <td>ham</td>\n",
       "      <td>Will ü b going to esplanade fr home?</td>\n",
       "    </tr>\n",
       "    <tr>\n",
       "      <th>5569</th>\n",
       "      <td>ham</td>\n",
       "      <td>Pity, * was in mood for that. So...any other s...</td>\n",
       "    </tr>\n",
       "    <tr>\n",
       "      <th>5570</th>\n",
       "      <td>ham</td>\n",
       "      <td>The guy did some bitching but I acted like i'd...</td>\n",
       "    </tr>\n",
       "    <tr>\n",
       "      <th>5571</th>\n",
       "      <td>ham</td>\n",
       "      <td>Rofl. Its true to its name</td>\n",
       "    </tr>\n",
       "  </tbody>\n",
       "</table>\n",
       "<p>5572 rows × 2 columns</p>\n",
       "</div>"
      ],
      "text/plain": [
       "     label                                               text\n",
       "0      ham  Go until jurong point, crazy.. Available only ...\n",
       "1      ham                      Ok lar... Joking wif u oni...\n",
       "2     spam  Free entry in 2 a wkly comp to win FA Cup fina...\n",
       "3      ham  U dun say so early hor... U c already then say...\n",
       "4      ham  Nah I don't think he goes to usf, he lives aro...\n",
       "...    ...                                                ...\n",
       "5567  spam  This is the 2nd time we have tried 2 contact u...\n",
       "5568   ham               Will ü b going to esplanade fr home?\n",
       "5569   ham  Pity, * was in mood for that. So...any other s...\n",
       "5570   ham  The guy did some bitching but I acted like i'd...\n",
       "5571   ham                         Rofl. Its true to its name\n",
       "\n",
       "[5572 rows x 2 columns]"
      ]
     },
     "execution_count": 4,
     "metadata": {},
     "output_type": "execute_result"
    }
   ],
   "source": [
    "data = pd.read_csv('SMSSpamCollection', sep='\\t', header=None, names=['label', 'text'])\n",
    "data"
   ]
  },
  {
   "cell_type": "code",
   "execution_count": 5,
   "id": "708186b2",
   "metadata": {},
   "outputs": [
    {
     "data": {
      "image/png": "[encoded data removed]",
      "text/plain": [
       "<Figure size 576x432 with 1 Axes>"
      ]
     },
     "metadata": {
      "needs_background": "light"
     },
     "output_type": "display_data"
    }
   ],
   "source": [
    "import matplotlib.pyplot as plt\n",
    "\n",
    "# Count the occurrences of each label (ham and spam)\n",
    "label_counts = data['label'].value_counts()\n",
    "\n",
    "# Create a bar chart\n",
    "plt.figure(figsize=(8, 6))\n",
    "label_counts.plot(kind='bar', color=['skyblue', 'salmon'])\n",
    "plt.title('Distribution of Ham and Spam Messages')\n",
    "plt.xlabel('Label')\n",
    "plt.ylabel('Count')\n",
    "plt.xticks(rotation=0)\n",
    "plt.show()"
   ]
  },
  {
   "cell_type": "code",
   "execution_count": null,
   "id": "f5f8cf88",
   "metadata": {},
   "outputs": [],
   "source": []
  },
  {
   "cell_type": "markdown",
   "id": "aec75fbc",
   "metadata": {},
   "source": [
    "# Exploratory Data Analysis"
   ]
  },
  {
   "cell_type": "markdown",
   "id": "e603f013",
   "metadata": {},
   "source": [
    "### Check for Missing Values"
   ]
  },
  {
   "cell_type": "code",
   "execution_count": 6,
   "id": "97b09f65",
   "metadata": {},
   "outputs": [
    {
     "name": "stdout",
     "output_type": "stream",
     "text": [
      "Missing values in each column:\n",
      "label    0\n",
      "text     0\n",
      "dtype: int64\n"
     ]
    }
   ],
   "source": [
    "# Check for missing values\n",
    "missing_values = data.isnull().sum()\n",
    "print(\"Missing values in each column:\")\n",
    "print(missing_values)"
   ]
  },
  {
   "cell_type": "markdown",
   "id": "8694cc73",
   "metadata": {},
   "source": [
    "### Basic Statistics (Text Length)"
   ]
  },
  {
   "cell_type": "code",
   "execution_count": 7,
   "id": "e5ed7178",
   "metadata": {},
   "outputs": [
    {
     "name": "stdout",
     "output_type": "stream",
     "text": [
      "\n",
      "Basic statistics for text length:\n",
      "count    5572.000000\n",
      "mean       80.489950\n",
      "std        59.942907\n",
      "min         2.000000\n",
      "25%        36.000000\n",
      "50%        62.000000\n",
      "75%       122.000000\n",
      "max       910.000000\n",
      "Name: text_length, dtype: float64\n"
     ]
    }
   ],
   "source": [
    "# Add a column for message length\n",
    "data['text_length'] = data['text'].apply(len)\n",
    "\n",
    "# Show basic statistics for text length\n",
    "print(\"\\nBasic statistics for text length:\")\n",
    "print(data['text_length'].describe())"
   ]
  },
  {
   "cell_type": "markdown",
   "id": "420d9ea1",
   "metadata": {},
   "source": [
    "### Visualize Text Length Distribution"
   ]
  },
  {
   "cell_type": "code",
   "execution_count": 8,
   "id": "ac80576c",
   "metadata": {},
   "outputs": [
    {
     "data": {
      "image/png": "[encoded data removed]",
      "text/plain": [
       "<Figure size 576x432 with 1 Axes>"
      ]
     },
     "metadata": {
      "needs_background": "light"
     },
     "output_type": "display_data"
    }
   ],
   "source": [
    "# Plot the distribution of text lengths for ham and spam\n",
    "plt.figure(figsize=(8, 6))\n",
    "data[data['label'] == 'ham']['text_length'].plot(kind='hist', alpha=0.5, label='ham', bins=30, color='blue')\n",
    "data[data['label'] == 'spam']['text_length'].plot(kind='hist', alpha=0.5, label='spam', bins=30, color='red')\n",
    "plt.title('Text Length Distribution for Ham and Spam Messages')\n",
    "plt.xlabel('Text Length (Number of Characters)')\n",
    "plt.ylabel('Frequency')\n",
    "plt.legend()\n",
    "plt.show()"
   ]
  },
  {
   "cell_type": "markdown",
   "id": "d121f75f",
   "metadata": {},
   "source": [
    "### Check Duplication"
   ]
  },
  {
   "cell_type": "code",
   "execution_count": 17,
   "id": "021ceb6d",
   "metadata": {},
   "outputs": [
    {
     "name": "stdout",
     "output_type": "stream",
     "text": [
      "\n",
      "Number of duplicate messages: 403\n"
     ]
    }
   ],
   "source": [
    "# Check for duplicates\n",
    "duplicates = data[data.duplicated(subset=['text'])]\n",
    "print(f\"\\nNumber of duplicate messages: {duplicates.shape[0]}\")"
   ]
  },
  {
   "cell_type": "code",
   "execution_count": 21,
   "id": "8fceee50",
   "metadata": {},
   "outputs": [
    {
     "name": "stdout",
     "output_type": "stream",
     "text": [
      "Original dataset size: 5572\n",
      "Dataset size after keeping only the first occurrence: 5169\n"
     ]
    }
   ],
   "source": [
    "# Keep only the first occurrence of each message\n",
    "data_unique = data.drop_duplicates(subset=['text'], keep='first')\n",
    "\n",
    "# Verify the new dataset size\n",
    "print(f\"Original dataset size: {data.shape[0]}\")\n",
    "print(f\"Dataset size after keeping only the first occurrence: {data_unique.shape[0]}\")"
   ]
  },
  {
   "cell_type": "markdown",
   "id": "bb4f9ccc",
   "metadata": {},
   "source": [
    "### Top 10 Most Common Words in Spam vs. Ham"
   ]
  },
  {
   "cell_type": "code",
   "execution_count": 22,
   "id": "c3faf3ad",
   "metadata": {},
   "outputs": [
    {
     "name": "stdout",
     "output_type": "stream",
     "text": [
      "\n",
      "Top 10 words in Ham messages:\n",
      "[('i', 2793), ('you', 1880), ('to', 1481), ('the', 1062), ('a', 975), ('u', 930), ('and', 826), ('in', 762), ('me', 732), ('my', 679)]\n",
      "\n",
      "Top 10 words in Spam messages:\n",
      "[('to', 599), ('a', 335), ('call', 309), ('you', 268), ('your', 242), ('free', 195), ('2', 185), ('for', 185), ('the', 183), ('now', 164)]\n"
     ]
    }
   ],
   "source": [
    "from collections import Counter\n",
    "import re\n",
    "\n",
    "# Function to clean text (removing non-alphabetic characters)\n",
    "def clean_text(text):\n",
    "    return ' '.join(re.findall(r'\\b\\w+\\b', text.lower()))\n",
    "\n",
    "# Get top 10 words in ham and spam messages\n",
    "ham_cleaned = ' '.join(data_unique[data_unique['label'] == 'ham']['text'].apply(clean_text))\n",
    "spam_cleaned = ' '.join(data_unique[data_unique['label'] == 'spam']['text'].apply(clean_text))\n",
    "\n",
    "ham_word_count = Counter(ham_cleaned.split())\n",
    "spam_word_count = Counter(spam_cleaned.split())\n",
    "\n",
    "# Get top 10 most common words\n",
    "ham_top_10 = ham_word_count.most_common(10)\n",
    "spam_top_10 = spam_word_count.most_common(10)\n",
    "\n",
    "print(\"\\nTop 10 words in Ham messages:\")\n",
    "print(ham_top_10)\n",
    "print(\"\\nTop 10 words in Spam messages:\")\n",
    "print(spam_top_10)"
   ]
  },
  {
   "cell_type": "markdown",
   "id": "8d791006",
   "metadata": {},
   "source": [
    "### Check Data Imbalance"
   ]
  },
  {
   "cell_type": "code",
   "execution_count": 23,
   "id": "eb1daafa",
   "metadata": {},
   "outputs": [
    {
     "name": "stdout",
     "output_type": "stream",
     "text": [
      "\n",
      "Class distribution (ham vs. spam):\n",
      "ham     0.87367\n",
      "spam    0.12633\n",
      "Name: label, dtype: float64\n"
     ]
    }
   ],
   "source": [
    "# Check for class imbalance\n",
    "class_distribution = data_unique['label'].value_counts(normalize=True)\n",
    "print(\"\\nClass distribution (ham vs. spam):\")\n",
    "print(class_distribution)"
   ]
  },
  {
   "cell_type": "code",
   "execution_count": null,
   "id": "523995ca",
   "metadata": {},
   "outputs": [],
   "source": []
  },
  {
   "cell_type": "markdown",
   "id": "11520c69",
   "metadata": {},
   "source": [
    "# Preprocess Data"
   ]
  },
  {
   "cell_type": "code",
   "execution_count": 24,
   "id": "d4e202c7",
   "metadata": {},
   "outputs": [
    {
     "name": "stdout",
     "output_type": "stream",
     "text": [
      "Requirement already satisfied: nltk in /Users/hanfei/opt/anaconda3/lib/python3.8/site-packages (3.9.1)\n",
      "Requirement already satisfied: joblib in /Users/hanfei/opt/anaconda3/lib/python3.8/site-packages (from nltk) (1.4.2)\n",
      "Requirement already satisfied: tqdm in /Users/hanfei/opt/anaconda3/lib/python3.8/site-packages (from nltk) (4.59.0)\n",
      "Requirement already satisfied: click in /Users/hanfei/opt/anaconda3/lib/python3.8/site-packages (from nltk) (7.1.2)\n",
      "Requirement already satisfied: regex>=2021.8.3 in /Users/hanfei/opt/anaconda3/lib/python3.8/site-packages (from nltk) (2024.9.11)\n",
      "\n",
      "\u001b[1m[\u001b[0m\u001b[34;49mnotice\u001b[0m\u001b[1;39;49m]\u001b[0m\u001b[39;49m A new release of pip available: \u001b[0m\u001b[31;49m22.3.1\u001b[0m\u001b[39;49m -> \u001b[0m\u001b[32;49m24.3.1\u001b[0m\n",
      "\u001b[1m[\u001b[0m\u001b[34;49mnotice\u001b[0m\u001b[1;39;49m]\u001b[0m\u001b[39;49m To update, run: \u001b[0m\u001b[32;49mpip install --upgrade pip\u001b[0m\n"
     ]
    }
   ],
   "source": [
    "!pip install nltk"
   ]
  },
  {
   "cell_type": "code",
   "execution_count": 25,
   "id": "883bf429",
   "metadata": {},
   "outputs": [
    {
     "name": "stderr",
     "output_type": "stream",
     "text": [
      "[nltk_data] Downloading package stopwords to\n",
      "[nltk_data]     /Users/hanfei/nltk_data...\n",
      "[nltk_data]   Package stopwords is already up-to-date!\n"
     ]
    },
    {
     "data": {
      "text/plain": [
       "True"
      ]
     },
     "execution_count": 25,
     "metadata": {},
     "output_type": "execute_result"
    }
   ],
   "source": [
    "import nltk\n",
    "import re\n",
    "from nltk.corpus import stopwords\n",
    "from nltk.stem import PorterStemmer\n",
    "\n",
    "# Download NLTK resources (you only need to run this once)\n",
    "nltk.download('stopwords')"
   ]
  },
  {
   "cell_type": "code",
   "execution_count": 26,
   "id": "bcb0fe97",
   "metadata": {},
   "outputs": [
    {
     "name": "stderr",
     "output_type": "stream",
     "text": [
      "<ipython-input-26-c3b926bc93b6>:26: SettingWithCopyWarning: \n",
      "A value is trying to be set on a copy of a slice from a DataFrame.\n",
      "Try using .loc[row_indexer,col_indexer] = value instead\n",
      "\n",
      "See the caveats in the documentation: https://pandas.pydata.org/pandas-docs/stable/user_guide/indexing.html#returning-a-view-versus-a-copy\n",
      "  data_unique['text_cleaned'] = data_unique['text'].apply(preprocess_text)\n"
     ]
    },
    {
     "data": {
      "text/html": [
       "<div>\n",
       "<style scoped>\n",
       "    .dataframe tbody tr th:only-of-type {\n",
       "        vertical-align: middle;\n",
       "    }\n",
       "\n",
       "    .dataframe tbody tr th {\n",
       "        vertical-align: top;\n",
       "    }\n",
       "\n",
       "    .dataframe thead th {\n",
       "        text-align: right;\n",
       "    }\n",
       "</style>\n",
       "<table border=\"1\" class=\"dataframe\">\n",
       "  <thead>\n",
       "    <tr style=\"text-align: right;\">\n",
       "      <th></th>\n",
       "      <th>text</th>\n",
       "      <th>text_cleaned</th>\n",
       "    </tr>\n",
       "  </thead>\n",
       "  <tbody>\n",
       "    <tr>\n",
       "      <th>0</th>\n",
       "      <td>Go until jurong point, crazy.. Available only ...</td>\n",
       "      <td>go jurong point crazi avail bugi n great world...</td>\n",
       "    </tr>\n",
       "    <tr>\n",
       "      <th>1</th>\n",
       "      <td>Ok lar... Joking wif u oni...</td>\n",
       "      <td>ok lar joke wif u oni</td>\n",
       "    </tr>\n",
       "    <tr>\n",
       "      <th>2</th>\n",
       "      <td>Free entry in 2 a wkly comp to win FA Cup fina...</td>\n",
       "      <td>free entri wkli comp win fa cup final tkt st m...</td>\n",
       "    </tr>\n",
       "    <tr>\n",
       "      <th>3</th>\n",
       "      <td>U dun say so early hor... U c already then say...</td>\n",
       "      <td>u dun say earli hor u c alreadi say</td>\n",
       "    </tr>\n",
       "    <tr>\n",
       "      <th>4</th>\n",
       "      <td>Nah I don't think he goes to usf, he lives aro...</td>\n",
       "      <td>nah dont think goe usf live around though</td>\n",
       "    </tr>\n",
       "  </tbody>\n",
       "</table>\n",
       "</div>"
      ],
      "text/plain": [
       "                                                text  \\\n",
       "0  Go until jurong point, crazy.. Available only ...   \n",
       "1                      Ok lar... Joking wif u oni...   \n",
       "2  Free entry in 2 a wkly comp to win FA Cup fina...   \n",
       "3  U dun say so early hor... U c already then say...   \n",
       "4  Nah I don't think he goes to usf, he lives aro...   \n",
       "\n",
       "                                        text_cleaned  \n",
       "0  go jurong point crazi avail bugi n great world...  \n",
       "1                              ok lar joke wif u oni  \n",
       "2  free entri wkli comp win fa cup final tkt st m...  \n",
       "3                u dun say earli hor u c alreadi say  \n",
       "4          nah dont think goe usf live around though  "
      ]
     },
     "execution_count": 26,
     "metadata": {},
     "output_type": "execute_result"
    }
   ],
   "source": [
    "# Initialize the stemmer and stopwords list\n",
    "stop_words = set(stopwords.words('english'))\n",
    "stemmer = PorterStemmer()\n",
    "\n",
    "# Preprocessing function\n",
    "def preprocess_text(text):\n",
    "    # 1. Convert to lowercase\n",
    "    text = text.lower()\n",
    "    \n",
    "    # 2. Remove punctuation and special characters\n",
    "    text = re.sub(r'[^a-z\\s]', '', text)\n",
    "    \n",
    "    # 3. Tokenize the text\n",
    "    words = text.split()\n",
    "    \n",
    "    # 4. Remove stopwords\n",
    "    words = [word for word in words if word not in stop_words]\n",
    "    \n",
    "    # 5. Apply stemming\n",
    "    words = [stemmer.stem(word) for word in words]\n",
    "    \n",
    "    # Join words back into a single string\n",
    "    return ' '.join(words)\n",
    "\n",
    "# Apply the preprocessing function to the 'text' column\n",
    "data_unique['text_cleaned'] = data_unique['text'].apply(preprocess_text)\n",
    "\n",
    "# Display the first few rows of the cleaned text\n",
    "data_unique[['text', 'text_cleaned']].head()"
   ]
  },
  {
   "cell_type": "code",
   "execution_count": null,
   "id": "6fe92052",
   "metadata": {},
   "outputs": [],
   "source": []
  },
  {
   "cell_type": "markdown",
   "id": "a4355992",
   "metadata": {},
   "source": [
    "### Apply TF-IDF"
   ]
  },
  {
   "cell_type": "code",
   "execution_count": 27,
   "id": "2ee85eb4",
   "metadata": {},
   "outputs": [
    {
     "name": "stdout",
     "output_type": "stream",
     "text": [
      "    aa  aah  abi  abil  abiola  abj  abl  abt  abta  aburo  ...  zebra  zed  \\\n",
      "0  0.0  0.0  0.0   0.0     0.0  0.0  0.0  0.0   0.0    0.0  ...    0.0  0.0   \n",
      "1  0.0  0.0  0.0   0.0     0.0  0.0  0.0  0.0   0.0    0.0  ...    0.0  0.0   \n",
      "2  0.0  0.0  0.0   0.0     0.0  0.0  0.0  0.0   0.0    0.0  ...    0.0  0.0   \n",
      "3  0.0  0.0  0.0   0.0     0.0  0.0  0.0  0.0   0.0    0.0  ...    0.0  0.0   \n",
      "4  0.0  0.0  0.0   0.0     0.0  0.0  0.0  0.0   0.0    0.0  ...    0.0  0.0   \n",
      "\n",
      "   zero   zf  zhong  zindgi  zoe  zogtoriu  zoom  zouk  \n",
      "0   0.0  0.0    0.0     0.0  0.0       0.0   0.0   0.0  \n",
      "1   0.0  0.0    0.0     0.0  0.0       0.0   0.0   0.0  \n",
      "2   0.0  0.0    0.0     0.0  0.0       0.0   0.0   0.0  \n",
      "3   0.0  0.0    0.0     0.0  0.0       0.0   0.0   0.0  \n",
      "4   0.0  0.0    0.0     0.0  0.0       0.0   0.0   0.0  \n",
      "\n",
      "[5 rows x 5000 columns]\n"
     ]
    }
   ],
   "source": [
    "from sklearn.feature_extraction.text import TfidfVectorizer\n",
    "\n",
    "# Initialize the TF-IDF vectorizer\n",
    "vectorizer = TfidfVectorizer(max_features=5000)  # Limiting to top 5000 features\n",
    "\n",
    "# Transform the cleaned text into TF-IDF features\n",
    "X = vectorizer.fit_transform(data_unique['text_cleaned'])\n",
    "\n",
    "# Convert the result into a DataFrame to inspect\n",
    "X_df = pd.DataFrame(X.toarray(), columns=vectorizer.get_feature_names_out())\n",
    "\n",
    "# Display the first few rows of the TF-IDF matrix\n",
    "print(X_df.head())"
   ]
  },
  {
   "cell_type": "code",
   "execution_count": null,
   "id": "5bb3aaab",
   "metadata": {},
   "outputs": [],
   "source": []
  },
  {
   "cell_type": "markdown",
   "id": "902e3d2f",
   "metadata": {},
   "source": [
    "### Prepare the Target Labels"
   ]
  },
  {
   "cell_type": "code",
   "execution_count": 28,
   "id": "5749dc05",
   "metadata": {},
   "outputs": [
    {
     "name": "stdout",
     "output_type": "stream",
     "text": [
      "0     ham\n",
      "1     ham\n",
      "2    spam\n",
      "3     ham\n",
      "4     ham\n",
      "Name: label, dtype: object\n"
     ]
    }
   ],
   "source": [
    "# Assign the target variable (label)\n",
    "y = data_unique['label']\n",
    "\n",
    "# Display the first few target values\n",
    "print(y.head())\n"
   ]
  },
  {
   "cell_type": "code",
   "execution_count": null,
   "id": "3a0a4704",
   "metadata": {},
   "outputs": [],
   "source": []
  },
  {
   "cell_type": "markdown",
   "id": "f52df9ee",
   "metadata": {},
   "source": [
    "### Split the Data into Training and Testing Sets"
   ]
  },
  {
   "cell_type": "code",
   "execution_count": 29,
   "id": "3463000a",
   "metadata": {},
   "outputs": [
    {
     "name": "stdout",
     "output_type": "stream",
     "text": [
      "Training set size: 3721\n",
      "Validation set size: 414\n",
      "Test set size: 1034\n"
     ]
    }
   ],
   "source": [
    "from sklearn.model_selection import train_test_split\n",
    "\n",
    "# First split into training and test sets\n",
    "X_train, X_test, y_train, y_test = train_test_split(X, y, test_size=0.2, random_state=42)\n",
    "\n",
    "# Then, split the training set further into training and validation sets\n",
    "X_train, X_val, y_train, y_val = train_test_split(X_train, y_train, test_size=0.1, random_state=42)\n",
    "\n",
    "# Display the shapes of the datasets\n",
    "print(f\"Training set size: {X_train.shape[0]}\")\n",
    "print(f\"Validation set size: {X_val.shape[0]}\")\n",
    "print(f\"Test set size: {X_test.shape[0]}\")\n"
   ]
  },
  {
   "cell_type": "code",
   "execution_count": null,
   "id": "313b897c",
   "metadata": {},
   "outputs": [],
   "source": []
  },
  {
   "cell_type": "markdown",
   "id": "058d0c19",
   "metadata": {},
   "source": [
    "# Train the Model"
   ]
  },
  {
   "cell_type": "markdown",
   "id": "d1582c56",
   "metadata": {},
   "source": [
    "### Naive Bayes Model"
   ]
  },
  {
   "cell_type": "code",
   "execution_count": 31,
   "id": "304ebaca",
   "metadata": {},
   "outputs": [],
   "source": [
    "from sklearn.metrics import confusion_matrix\n",
    "import seaborn as sns\n",
    "import matplotlib.pyplot as plt"
   ]
  },
  {
   "cell_type": "code",
   "execution_count": 30,
   "id": "6535c781",
   "metadata": {},
   "outputs": [
    {
     "name": "stdout",
     "output_type": "stream",
     "text": [
      "Validation Accuracy: 0.9541\n",
      "\n",
      "Classification Report (Validation Set):\n",
      "              precision    recall  f1-score   support\n",
      "\n",
      "         ham       0.95      1.00      0.97       354\n",
      "        spam       1.00      0.68      0.81        60\n",
      "\n",
      "    accuracy                           0.95       414\n",
      "   macro avg       0.97      0.84      0.89       414\n",
      "weighted avg       0.96      0.95      0.95       414\n",
      "\n"
     ]
    }
   ],
   "source": [
    "from sklearn.naive_bayes import MultinomialNB\n",
    "from sklearn.metrics import accuracy_score, classification_report\n",
    "\n",
    "# Initialize the Naive Bayes classifier\n",
    "nb_model = MultinomialNB()\n",
    "\n",
    "# Train the model using the training data\n",
    "nb_model.fit(X_train, y_train)\n",
    "\n",
    "# Make predictions on the validation set\n",
    "y_val_pred = nb_model.predict(X_val)\n",
    "\n",
    "# Evaluate the model on the validation set\n",
    "val_accuracy = accuracy_score(y_val, y_val_pred)\n",
    "print(f\"Validation Accuracy: {val_accuracy:.4f}\")\n",
    "\n",
    "# Display the classification report\n",
    "print(\"\\nClassification Report (Validation Set):\")\n",
    "print(classification_report(y_val, y_val_pred))"
   ]
  },
  {
   "cell_type": "code",
   "execution_count": 32,
   "id": "83bd88a3",
   "metadata": {},
   "outputs": [
    {
     "name": "stdout",
     "output_type": "stream",
     "text": [
      "Best alpha: {'alpha': 0.1}\n",
      "Tuned Validation Accuracy: 0.9710\n"
     ]
    }
   ],
   "source": [
    "from sklearn.model_selection import GridSearchCV\n",
    "\n",
    "# Define the parameter grid\n",
    "param_grid = {'alpha': [0.1, 0.5, 1.0, 2.0, 5.0]}\n",
    "\n",
    "# Initialize GridSearchCV with Naive Bayes\n",
    "grid_search = GridSearchCV(MultinomialNB(), param_grid, cv=5, scoring='accuracy')\n",
    "\n",
    "# Fit the grid search to the training data\n",
    "grid_search.fit(X_train, y_train)\n",
    "\n",
    "# Display the best parameters found by GridSearchCV\n",
    "print(f\"Best alpha: {grid_search.best_params_}\")\n",
    "\n",
    "# Use the best model found by GridSearchCV\n",
    "best_nb_model = grid_search.best_estimator_\n",
    "\n",
    "# Evaluate the tuned model on the validation set\n",
    "y_val_pred_tuned = best_nb_model.predict(X_val)\n",
    "val_accuracy_tuned = accuracy_score(y_val, y_val_pred_tuned)\n",
    "print(f\"Tuned Validation Accuracy: {val_accuracy_tuned:.4f}\")"
   ]
  },
  {
   "cell_type": "code",
   "execution_count": 33,
   "id": "31442ac0",
   "metadata": {},
   "outputs": [
    {
     "name": "stdout",
     "output_type": "stream",
     "text": [
      "Test Accuracy: 0.9652\n",
      "\n",
      "Classification Report (Test Set):\n",
      "              precision    recall  f1-score   support\n",
      "\n",
      "         ham       0.96      1.00      0.98       894\n",
      "        spam       1.00      0.74      0.85       140\n",
      "\n",
      "    accuracy                           0.97      1034\n",
      "   macro avg       0.98      0.87      0.92      1034\n",
      "weighted avg       0.97      0.97      0.96      1034\n",
      "\n"
     ]
    }
   ],
   "source": [
    "# Make predictions on the test set\n",
    "y_test_pred = nb_model.predict(X_test)\n",
    "\n",
    "# Evaluate the model on the test set\n",
    "test_accuracy = accuracy_score(y_test, y_test_pred)\n",
    "print(f\"Test Accuracy: {test_accuracy:.4f}\")\n",
    "\n",
    "# Display the classification report for the test set\n",
    "print(\"\\nClassification Report (Test Set):\")\n",
    "print(classification_report(y_test, y_test_pred))"
   ]
  },
  {
   "cell_type": "code",
   "execution_count": 34,
   "id": "54c48844",
   "metadata": {},
   "outputs": [
    {
     "data": {
      "image/png": "[encoded data removed]",
      "text/plain": [
       "<Figure size 432x432 with 1 Axes>"
      ]
     },
     "metadata": {
      "needs_background": "light"
     },
     "output_type": "display_data"
    },
    {
     "data": {
      "image/png": "[encoded data removed]",
      "text/plain": [
       "<Figure size 432x432 with 1 Axes>"
      ]
     },
     "metadata": {
      "needs_background": "light"
     },
     "output_type": "display_data"
    }
   ],
   "source": [
    "# Generate confusion matrix for the training set\n",
    "y_train_pred = nb_model.predict(X_train)\n",
    "cm_train = confusion_matrix(y_train, y_train_pred)\n",
    "\n",
    "# Generate confusion matrix for the test set\n",
    "y_test_pred = nb_model.predict(X_test)\n",
    "cm_test = confusion_matrix(y_test, y_test_pred)\n",
    "\n",
    "# Function to plot confusion matrix\n",
    "def plot_confusion_matrix(cm, title=\"Confusion Matrix\"):\n",
    "    plt.figure(figsize=(6, 6))\n",
    "    sns.heatmap(cm, annot=True, fmt='d', cmap='Blues', cbar=False, xticklabels=['ham', 'spam'], yticklabels=['ham', 'spam'])\n",
    "    plt.title(title)\n",
    "    plt.xlabel('Predicted Label')\n",
    "    plt.ylabel('True Label')\n",
    "    plt.show()\n",
    "\n",
    "# Plot confusion matrices\n",
    "plot_confusion_matrix(cm_train, \"Confusion Matrix (Train Set)\")\n",
    "plot_confusion_matrix(cm_test, \"Confusion Matrix (Test Set)\")"
   ]
  },
  {
   "cell_type": "code",
   "execution_count": null,
   "id": "2e33a4cc",
   "metadata": {},
   "outputs": [],
   "source": []
  },
  {
   "cell_type": "markdown",
   "id": "556c0ad2",
   "metadata": {},
   "source": [
    "### Random Forest Model"
   ]
  },
  {
   "cell_type": "code",
   "execution_count": 35,
   "id": "4d9bd248",
   "metadata": {},
   "outputs": [],
   "source": [
    "from sklearn.ensemble import RandomForestClassifier\n",
    "from sklearn.metrics import classification_report, accuracy_score"
   ]
  },
  {
   "cell_type": "code",
   "execution_count": 36,
   "id": "87d7c7f0",
   "metadata": {},
   "outputs": [
    {
     "name": "stdout",
     "output_type": "stream",
     "text": [
      "Validation Accuracy (Random Forest): 0.9614\n",
      "\n",
      "Classification Report (Validation Set - Random Forest):\n",
      "              precision    recall  f1-score   support\n",
      "\n",
      "         ham       0.96      1.00      0.98       354\n",
      "        spam       0.98      0.75      0.85        60\n",
      "\n",
      "    accuracy                           0.96       414\n",
      "   macro avg       0.97      0.87      0.91       414\n",
      "weighted avg       0.96      0.96      0.96       414\n",
      "\n"
     ]
    }
   ],
   "source": [
    "# Initialize the Random Forest classifier\n",
    "rf_model = RandomForestClassifier(random_state=42)\n",
    "\n",
    "# Train the model using the training data\n",
    "rf_model.fit(X_train, y_train)\n",
    "\n",
    "# Make predictions on the validation set\n",
    "y_val_pred_rf = rf_model.predict(X_val)\n",
    "\n",
    "# Evaluate the model on the validation set\n",
    "val_accuracy_rf = accuracy_score(y_val, y_val_pred_rf)\n",
    "print(f\"Validation Accuracy (Random Forest): {val_accuracy_rf:.4f}\")\n",
    "\n",
    "# Display the classification report\n",
    "print(\"\\nClassification Report (Validation Set - Random Forest):\")\n",
    "print(classification_report(y_val, y_val_pred_rf))"
   ]
  },
  {
   "cell_type": "code",
   "execution_count": 37,
   "id": "4fd636ea",
   "metadata": {},
   "outputs": [
    {
     "name": "stdout",
     "output_type": "stream",
     "text": [
      "Best parameters (Random Forest): {'max_depth': None, 'min_samples_leaf': 1, 'min_samples_split': 5, 'n_estimators': 200}\n",
      "Tuned Validation Accuracy (Random Forest): 0.9589\n"
     ]
    }
   ],
   "source": [
    "from sklearn.model_selection import GridSearchCV\n",
    "\n",
    "# Define the parameter grid for Random Forest\n",
    "param_grid_rf = {\n",
    "    'n_estimators': [50, 100, 200],\n",
    "    'max_depth': [10, 20, None],\n",
    "    'min_samples_split': [2, 5],\n",
    "    'min_samples_leaf': [1, 2]\n",
    "}\n",
    "\n",
    "# Initialize GridSearchCV with Random Forest\n",
    "grid_search_rf = GridSearchCV(RandomForestClassifier(random_state=42), param_grid_rf, cv=5, scoring='accuracy')\n",
    "\n",
    "# Fit the grid search to the training data\n",
    "grid_search_rf.fit(X_train, y_train)\n",
    "\n",
    "# Display the best parameters found by GridSearchCV\n",
    "print(f\"Best parameters (Random Forest): {grid_search_rf.best_params_}\")\n",
    "\n",
    "# Use the best model found by GridSearchCV\n",
    "best_rf_model = grid_search_rf.best_estimator_\n",
    "\n",
    "# Evaluate the tuned model on the validation set\n",
    "y_val_pred_rf_tuned = best_rf_model.predict(X_val)\n",
    "val_accuracy_rf_tuned = accuracy_score(y_val, y_val_pred_rf_tuned)\n",
    "print(f\"Tuned Validation Accuracy (Random Forest): {val_accuracy_rf_tuned:.4f}\")"
   ]
  },
  {
   "cell_type": "code",
   "execution_count": 39,
   "id": "970eb9d8",
   "metadata": {},
   "outputs": [
    {
     "name": "stdout",
     "output_type": "stream",
     "text": [
      "Test Accuracy (Random Forest): 0.9739\n",
      "\n",
      "Classification Report (Test Set - Random Forest):\n",
      "              precision    recall  f1-score   support\n",
      "\n",
      "         ham       0.97      1.00      0.99       894\n",
      "        spam       1.00      0.81      0.89       140\n",
      "\n",
      "    accuracy                           0.97      1034\n",
      "   macro avg       0.99      0.90      0.94      1034\n",
      "weighted avg       0.97      0.97      0.97      1034\n",
      "\n"
     ]
    }
   ],
   "source": [
    "# Make predictions on the test set\n",
    "y_test_pred_rf = rf_model.predict(X_test)\n",
    "\n",
    "# Evaluate the model on the test set\n",
    "test_accuracy_rf = accuracy_score(y_test, y_test_pred_rf)\n",
    "print(f\"Test Accuracy (Random Forest): {test_accuracy_rf:.4f}\")\n",
    "\n",
    "# Display the classification report for the test set\n",
    "print(\"\\nClassification Report (Test Set - Random Forest):\")\n",
    "print(classification_report(y_test, y_test_pred_rf))"
   ]
  },
  {
   "cell_type": "code",
   "execution_count": 40,
   "id": "37959f49",
   "metadata": {},
   "outputs": [
    {
     "data": {
      "image/png": "[encoded data removed]",
      "text/plain": [
       "<Figure size 432x432 with 1 Axes>"
      ]
     },
     "metadata": {
      "needs_background": "light"
     },
     "output_type": "display_data"
    }
   ],
   "source": [
    "# Generate confusion matrix for the test set\n",
    "cm_test_rf = confusion_matrix(y_test, y_test_pred_rf)\n",
    "\n",
    "# Plot confusion matrix for Random Forest\n",
    "plot_confusion_matrix(cm_test_rf, \"Confusion Matrix (Test Set - Random Forest)\")"
   ]
  },
  {
   "cell_type": "code",
   "execution_count": null,
   "id": "f8c73100",
   "metadata": {},
   "outputs": [],
   "source": []
  },
  {
   "cell_type": "markdown",
   "id": "7cdef44f",
   "metadata": {},
   "source": [
    "# Logsitic Regression"
   ]
  },
  {
   "cell_type": "code",
   "execution_count": 41,
   "id": "22024536",
   "metadata": {},
   "outputs": [],
   "source": [
    "from sklearn.linear_model import LogisticRegression\n",
    "from sklearn.metrics import classification_report, accuracy_score"
   ]
  },
  {
   "cell_type": "code",
   "execution_count": 42,
   "id": "03fd9a57",
   "metadata": {},
   "outputs": [
    {
     "name": "stdout",
     "output_type": "stream",
     "text": [
      "Validation Accuracy (Logistic Regression): 0.9348\n",
      "\n",
      "Classification Report (Validation Set - Logistic Regression):\n",
      "              precision    recall  f1-score   support\n",
      "\n",
      "         ham       0.93      1.00      0.96       354\n",
      "        spam       0.97      0.57      0.72        60\n",
      "\n",
      "    accuracy                           0.93       414\n",
      "   macro avg       0.95      0.78      0.84       414\n",
      "weighted avg       0.94      0.93      0.93       414\n",
      "\n"
     ]
    }
   ],
   "source": [
    "# Initialize the Logistic Regression model\n",
    "log_reg_model = LogisticRegression(random_state=42, max_iter=1000)\n",
    "\n",
    "# Train the model using the training data\n",
    "log_reg_model.fit(X_train, y_train)\n",
    "\n",
    "# Make predictions on the validation set\n",
    "y_val_pred_log_reg = log_reg_model.predict(X_val)\n",
    "\n",
    "# Evaluate the model on the validation set\n",
    "val_accuracy_log_reg = accuracy_score(y_val, y_val_pred_log_reg)\n",
    "print(f\"Validation Accuracy (Logistic Regression): {val_accuracy_log_reg:.4f}\")\n",
    "\n",
    "# Display the classification report\n",
    "print(\"\\nClassification Report (Validation Set - Logistic Regression):\")\n",
    "print(classification_report(y_val, y_val_pred_log_reg))"
   ]
  },
  {
   "cell_type": "code",
   "execution_count": 43,
   "id": "06031393",
   "metadata": {},
   "outputs": [
    {
     "name": "stdout",
     "output_type": "stream",
     "text": [
      "Best parameters (Logistic Regression): {'C': 10, 'solver': 'liblinear'}\n",
      "Tuned Validation Accuracy (Logistic Regression): 0.9686\n"
     ]
    }
   ],
   "source": [
    "from sklearn.model_selection import GridSearchCV\n",
    "\n",
    "# Define the parameter grid for Logistic Regression\n",
    "param_grid_log_reg = {\n",
    "    'C': [0.01, 0.1, 1, 10],  # Regularization strength\n",
    "    'solver': ['liblinear', 'lbfgs']\n",
    "}\n",
    "\n",
    "# Initialize GridSearchCV with Logistic Regression\n",
    "grid_search_log_reg = GridSearchCV(LogisticRegression(random_state=42, max_iter=1000), param_grid_log_reg, cv=5, scoring='accuracy')\n",
    "\n",
    "# Fit the grid search to the training data\n",
    "grid_search_log_reg.fit(X_train, y_train)\n",
    "\n",
    "# Display the best parameters found by GridSearchCV\n",
    "print(f\"Best parameters (Logistic Regression): {grid_search_log_reg.best_params_}\")\n",
    "\n",
    "# Use the best model found by GridSearchCV\n",
    "best_log_reg_model = grid_search_log_reg.best_estimator_\n",
    "\n",
    "# Evaluate the tuned model on the validation set\n",
    "y_val_pred_log_reg_tuned = best_log_reg_model.predict(X_val)\n",
    "val_accuracy_log_reg_tuned = accuracy_score(y_val, y_val_pred_log_reg_tuned)\n",
    "print(f\"Tuned Validation Accuracy (Logistic Regression): {val_accuracy_log_reg_tuned:.4f}\")"
   ]
  },
  {
   "cell_type": "code",
   "execution_count": 44,
   "id": "ee6606f7",
   "metadata": {},
   "outputs": [
    {
     "name": "stdout",
     "output_type": "stream",
     "text": [
      "Test Accuracy (Logistic Regression): 0.9536\n",
      "\n",
      "Classification Report (Test Set - Logistic Regression):\n",
      "              precision    recall  f1-score   support\n",
      "\n",
      "         ham       0.95      1.00      0.97       894\n",
      "        spam       0.96      0.69      0.80       140\n",
      "\n",
      "    accuracy                           0.95      1034\n",
      "   macro avg       0.96      0.84      0.89      1034\n",
      "weighted avg       0.95      0.95      0.95      1034\n",
      "\n"
     ]
    }
   ],
   "source": [
    "# Make predictions on the test set\n",
    "y_test_pred_log_reg = log_reg_model.predict(X_test)\n",
    "\n",
    "# Evaluate the model on the test set\n",
    "test_accuracy_log_reg = accuracy_score(y_test, y_test_pred_log_reg)\n",
    "print(f\"Test Accuracy (Logistic Regression): {test_accuracy_log_reg:.4f}\")\n",
    "\n",
    "# Display the classification report for the test set\n",
    "print(\"\\nClassification Report (Test Set - Logistic Regression):\")\n",
    "print(classification_report(y_test, y_test_pred_log_reg))"
   ]
  },
  {
   "cell_type": "code",
   "execution_count": 45,
   "id": "fb1b1a46",
   "metadata": {},
   "outputs": [
    {
     "data": {
      "image/png": "[encoded data removed]",
      "text/plain": [
       "<Figure size 432x432 with 1 Axes>"
      ]
     },
     "metadata": {
      "needs_background": "light"
     },
     "output_type": "display_data"
    }
   ],
   "source": [
    "# Generate confusion matrix for the test set\n",
    "cm_test_log_reg = confusion_matrix(y_test, y_test_pred_log_reg)\n",
    "\n",
    "# Plot confusion matrix for Logistic Regression\n",
    "plot_confusion_matrix(cm_test_log_reg, \"Confusion Matrix (Test Set - Logistic Regression)\")"
   ]
  },
  {
   "cell_type": "code",
   "execution_count": null,
   "id": "23197c07",
   "metadata": {},
   "outputs": [],
   "source": []
  }
 ],
 "metadata": {
  "kernelspec": {
   "display_name": "Python 3",
   "language": "python",
   "name": "python3"
  },
  "language_info": {
   "codemirror_mode": {
    "name": "ipython",
    "version": 3
   },
   "file_extension": ".py",
   "mimetype": "text/x-python",
   "name": "python",
   "nbconvert_exporter": "python",
   "pygments_lexer": "ipython3",
   "version": "3.8.8"
  }
 },
 "nbformat": 4,
 "nbformat_minor": 5
}
